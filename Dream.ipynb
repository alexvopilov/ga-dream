{
 "cells": [
  {
   "cell_type": "code",
   "execution_count": 1,
   "metadata": {
    "ExecuteTime": {
     "end_time": "2021-01-03T09:37:11.385865Z",
     "start_time": "2021-01-03T09:37:11.024886Z"
    }
   },
   "outputs": [],
   "source": [
    "import numpy as np\n",
    "import matplotlib.pyplot as plt\n",
    "import requests\n",
    "import time\n",
    "\n",
    "from PIL import Image\n",
    "from io import BytesIO"
   ]
  },
  {
   "cell_type": "code",
   "execution_count": 2,
   "metadata": {
    "ExecuteTime": {
     "end_time": "2021-01-03T09:37:11.394897Z",
     "start_time": "2021-01-03T09:37:11.387696Z"
    }
   },
   "outputs": [],
   "source": [
    "class Layout:\n",
    "    def __init__(self, ion):\n",
    "        self.fig = plt.figure()\n",
    "        self.ax = self.fig.add_subplot(221)\n",
    "        self.r = self.fig.add_subplot(222)\n",
    "        self.acc = self.fig.add_subplot(223)\n",
    "        self.acc2 = self.fig.add_subplot(224)\n",
    "        \n",
    "        self.ax.set_title('Dream')\n",
    "        self.r.set_title('Remember me')\n",
    "        self.acc.set_title('Accuracy')\n",
    "        self.acc2.set_title('Acceleration')\n",
    "        #self.ax.grid(which='major', axis='both', linestyle='-', color='k', linewidth=2)\n",
    "        #self.ax.set_xticks(np.arange(-0.5, 20, 1));\n",
    "        #self.ax.set_yticks(np.arange(-0.5, 20, 1));  \n",
    "        ion()\n",
    "        self.fig.show()\n",
    "        self.fig.canvas.draw()\n",
    "    def get(self):\n",
    "        return self.fig, self.ax, self.r, self.acc, self.acc2"
   ]
  },
  {
   "cell_type": "code",
   "execution_count": 3,
   "metadata": {
    "ExecuteTime": {
     "end_time": "2021-01-03T09:37:11.439543Z",
     "start_time": "2021-01-03T09:37:11.396706Z"
    }
   },
   "outputs": [],
   "source": [
    "def generate_art(goal):\n",
    "    return np.array([[[np.random.randint(1,255),\n",
    "                       np.random.randint(1,255),\n",
    "                       np.random.randint(1,255)\n",
    "                       ],]*goal.shape[0],]*goal.shape[1], dtype=np.uint8)"
   ]
  },
  {
   "cell_type": "code",
   "execution_count": 4,
   "metadata": {
    "ExecuteTime": {
     "end_time": "2021-01-03T09:37:11.481143Z",
     "start_time": "2021-01-03T09:37:11.441286Z"
    }
   },
   "outputs": [],
   "source": [
    "def population(n, goal):\n",
    "    population = []\n",
    "    for _ in range(n):\n",
    "        population.append(generate_art(goal))\n",
    "    return population"
   ]
  },
  {
   "cell_type": "code",
   "execution_count": 5,
   "metadata": {
    "ExecuteTime": {
     "end_time": "2021-01-03T09:37:11.534143Z",
     "start_time": "2021-01-03T09:37:11.482494Z"
    }
   },
   "outputs": [],
   "source": [
    "def cost(ind,goal):\n",
    "    errors = ind - goal\n",
    "    cost = 0\n",
    "    for i in errors:\n",
    "        for j in i:\n",
    "            cost += sum(j)\n",
    "    return cost"
   ]
  },
  {
   "cell_type": "code",
   "execution_count": 6,
   "metadata": {
    "ExecuteTime": {
     "end_time": "2021-01-03T09:37:11.598674Z",
     "start_time": "2021-01-03T09:37:11.535502Z"
    }
   },
   "outputs": [],
   "source": [
    "def select_best(generation, goal, rate = 2):\n",
    "    best = {}\n",
    "    for g in range(len(generation)):\n",
    "        best[g] = cost(generation[g],goal)\n",
    "        \n",
    "    _best = sorted(best, key=lambda k: best[k])\n",
    "    best = []\n",
    "    \n",
    "    for b in _best[:POPULATION_COUNT//rate]:\n",
    "        best.append(generation[b])\n",
    "    return best"
   ]
  },
  {
   "cell_type": "code",
   "execution_count": 7,
   "metadata": {
    "ExecuteTime": {
     "end_time": "2021-01-03T09:37:11.650947Z",
     "start_time": "2021-01-03T09:37:11.599998Z"
    }
   },
   "outputs": [],
   "source": [
    "def crossover(parents, offspring_count):\n",
    "    parents_count = len(parents)\n",
    "    offsprings = []\n",
    "    for i in range(2):\n",
    "        for j in range(parents_count):\n",
    "            parent1 = parents[np.random.randint(0, parents_count)]\n",
    "            parent2 = parents[np.random.randint(0, parents_count)]\n",
    "\n",
    "            parent1_mask = np.random.randint(0, 2, size = parent1.shape)\n",
    "            parent2_mask = np.logical_not(parent1_mask)\n",
    "\n",
    "            offspring = np.add(np.multiply(parent1, parent1_mask), np.multiply(parent2, parent2_mask))\n",
    "            offsprings.append(offspring)\n",
    "    return np.array(offsprings, dtype=np.uint8)"
   ]
  },
  {
   "cell_type": "code",
   "execution_count": 8,
   "metadata": {
    "ExecuteTime": {
     "end_time": "2021-01-03T09:37:11.700908Z",
     "start_time": "2021-01-03T09:37:11.653154Z"
    }
   },
 "metadata": {
  "kernelspec": {
   "display_name": "Python 3",
   "language": "python",
   "name": "python3"
  },
  "language_info": {
   "codemirror_mode": {
    "name": "ipython",
    "version": 3
   },
   "file_extension": ".py",
   "mimetype": "text/x-python",
   "name": "python",
   "nbconvert_exporter": "python",
   "pygments_lexer": "ipython3",
   "version": "3.7.6"
  },
  "varInspector": {
   "cols": {
    "lenName": 16,
    "lenType": 16,
    "lenVar": 40
   },
   "kernels_config": {
    "python": {
     "delete_cmd_postfix": "",
     "delete_cmd_prefix": "del ",
     "library": "var_list.py",
     "varRefreshCmd": "print(var_dic_list())"
    },
    "r": {
     "delete_cmd_postfix": ") ",
     "delete_cmd_prefix": "rm(",
     "library": "var_list.r",
     "varRefreshCmd": "cat(var_dic_list()) "
    }
   },
   "types_to_exclude": [
    "module",
    "function",
    "builtin_function_or_method",
    "instance",
    "_Feature"
   ],
   "window_display": false
  }
 },
 "nbformat": 4,
 "nbformat_minor": 4
}
